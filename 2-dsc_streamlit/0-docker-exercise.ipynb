{
 "cells": [
  {
   "cell_type": "markdown",
   "metadata": {
    "vscode": {
     "languageId": "shellscript"
    }
   },
   "source": [
    "### Docker and Streamlit Integration Exercise\n",
    "\n",
    "#### Overview\n",
    "Your task involves exploring and understanding a pre-existing Streamlit application and its accompanying Python code. This setup is designed to serve a machine learning model that operates on pre-trained `.t7` model files using Torch.\n",
    "\n",
    "#### Goals\n",
    "- **Understand the Streamlit Application**: Review the existing Python code to grasp how the Streamlit application serves the Torch models. A high-level understanding is sufficient; no need to dive deep into every detail.\n",
    "  \n",
    "- **Work with the Dockerfile**: The provided Dockerfile contains all the necessary instructions to build a Docker image that will run the Streamlit application. By understanding the Dockerfile, you'll learn how the application is packaged and prepared for deployment.\n",
    "\n",
    "- **Build and Run the Docker Container**: Your goal is to build the Docker image and run it as a container. This container will host the Streamlit application, allowing users to upload images and get model inferences in real-time.\n",
    "\n",
    "#### Expected Outcome\n",
    "By the end of this exercise, you should have:\n",
    "- A functional Docker container running the Streamlit application.\n",
    "- The ability for users to interact with the application by uploading images and receiving inferences based on the Torch models loaded into the application.\n",
    "\n",
    "#### Instructions\n",
    "\n",
    "1. **Explore the Code**: Look through the provided Streamlit application and Python code to understand how it utilizes the Torch models.\n",
    "2. **Analyze the Dockerfile**: Familiarize yourself with the Dockerfile to see how the application and its dependencies are packaged into a Docker image.\n",
    "3. **Build the Docker Image**: Use the Dockerfile to build an image. **Name the image `fhtw-streamlit`**.\n",
    "4. **Run the Docker Container**: Run the Docker container from the image you built. **Name the container `fhtw-streamlit-container`**."
   ]
  },
  {
   "cell_type": "markdown",
   "metadata": {},
   "source": [
    "#### 0. Download Model Files\n",
    "\n",
    "To begin using the Streamlit application, first download the model files using the `download_models.sh` script. Once the downloads are successful, navigate to the `./streamlit/` directory. Inside this directory, you should be able to find the `models` folder, which will contain the downloaded model files.\n",
    "\n",
    "\n",
    "**Remember**: The specific commands to build, run, and name the Docker image and container are up to you to figure out. Explore the Dockerfile and refer to your previous Docker experience to complete these steps!"
   ]
  },
  {
   "cell_type": "code",
   "execution_count": null,
   "metadata": {
    "vscode": {
     "languageId": "shellscript"
    }
   },
   "outputs": [],
   "source": [
    "%%bash\n",
    ". download_models.sh"
   ]
  }
 ],
 "metadata": {
  "kernelspec": {
   "display_name": "Python 3",
   "language": "python",
   "name": "python3"
  },
  "language_info": {
   "codemirror_mode": {
    "name": "ipython",
    "version": 3
   },
   "file_extension": ".py",
   "mimetype": "text/x-python",
   "name": "python",
   "nbconvert_exporter": "python",
   "pygments_lexer": "ipython3",
   "version": "3.8.10"
  }
 },
 "nbformat": 4,
 "nbformat_minor": 2
}
