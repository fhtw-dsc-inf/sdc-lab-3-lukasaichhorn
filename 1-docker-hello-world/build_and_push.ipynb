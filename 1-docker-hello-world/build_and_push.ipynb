{
 "cells": [
  {
   "cell_type": "markdown",
   "metadata": {},
   "source": [
    "## Build Dockerfile and push to registry"
   ]
  },
  {
   "cell_type": "code",
   "execution_count": 3,
   "metadata": {
    "vscode": {
     "languageId": "shellscript"
    }
   },
   "outputs": [
    {
     "name": "stdout",
     "output_type": "stream",
     "text": [
      "Installing IPython kernel spec\n"
     ]
    }
   ],
   "source": [
    "!python -m bash_kernel.install"
   ]
  },
  {
   "cell_type": "markdown",
   "metadata": {},
   "source": [
    "If you want to keep your prompt a little bit tight you can use\n",
    "\n",
    "\n",
    "```bash\n",
    "export PS1=\"\\W $ \"\n",
    "```"
   ]
  },
  {
   "cell_type": "code",
   "execution_count": 3,
   "metadata": {
    "vscode": {
     "languageId": "shellscript"
    }
   },
   "outputs": [],
   "source": [
    "%%bash\n",
    "export PS1=\"\\W $ \""
   ]
  },
  {
   "cell_type": "markdown",
   "metadata": {
    "vscode": {
     "languageId": "shellscript"
    }
   },
   "source": [
    "### Introduction to Docker and Containerization\n",
    "\n",
    "#### What is Docker?\n",
    "\n",
    "Docker is a platform that simplifies building, packaging, and running applications in isolated environments called **containers**. \n",
    "Containers are lightweight and portable because they bundle only the necessary libraries and dependencies, making applications run consistently across different environments.\n",
    "\n",
    "\n",
    "### Docker Concepts\n",
    "\n",
    "* **Image:** A Docker image is a read-only template that contains the application code, libraries, and dependencies required to run an application.\n",
    "* **Container:** A Docker container is a running instance of a Docker image. It's a lightweight and isolated environment that has its own filesystem, networking, and processes.\n",
    "* **Dockerfile:** A Dockerfile is a text file that contains instructions on how to build a Docker image.\n",
    "\n",
    "#### Benefits of Containerization\n",
    "\n",
    "*   **Consistency:** Docker ensures applications run the same way, regardless of the host operating system or infrastructure.\n",
    "*   **Isolation:** Applications and their dependencies are isolated within containers, preventing conflicts and improving security.\n",
    "*   **Portability:** Docker containers can be easily moved and run on different machines, such as laptops, servers, and cloud providers, that have Docker installed.\n"
   ]
  },
  {
   "cell_type": "markdown",
   "metadata": {
    "vscode": {
     "languageId": "shellscript"
    }
   },
   "source": [
    "### Basic FastAPI app\n",
    "\n",
    "In this repository you will find a basic FastAPI app, called `app.py`. This app is a simple API that returns a JSON response with a message.\n",
    "\n",
    "```python\n",
    "@app.get(\"/\")\n",
    "def root():\n",
    "    return {\"hello data scientists!!\"}\n",
    "```\n",
    "\n",
    "Our goal is to package this app as docker image and run it in a container."
   ]
  },
  {
   "cell_type": "markdown",
   "metadata": {},
   "source": [
    "### Docker Image"
   ]
  },
  {
   "cell_type": "markdown",
   "metadata": {
    "vscode": {
     "languageId": "raw"
    }
   },
   "source": [
    "To build the Docker image of your FastAPI application, you will use a file called `Dockerfile`. \n",
    "This file contains instructions to build a Docker image. \n",
    "Inside this repository, you will find a `Dockerfile` that contains the instructions to build the Docker image of your FastAPI application.\n",
    "Open the file and you will see the following content:\n",
    "\n",
    "```dockerfile\n",
    "FROM python:3.8\n",
    "LABEL maintainer=\"moh\"\n",
    "COPY . /app\n",
    "WORKDIR /app\n",
    "RUN pip install -r requirements.txt\n",
    "CMD [ \"python\", \"app.py\" ]\n",
    "```\n",
    "\n",
    "\n",
    "**Explanation:**\n",
    "\n",
    "1. **FROM python:3.8:** This line specifies the base image to use for the Docker image. We're using the official Python 3.8 image from Docker Hub.\n",
    "2. **LABEL maintainer=\"moh\":** This line adds metadata to the Docker image, specifying the maintainer's name.\n",
    "3. **COPY . /app:** This line copies all the files and directories from the current directory on the host machine (where the Dockerfile is located) to the `/app` directory inside the container.\n",
    "4. **WORKDIR /app:** This line sets the working directory inside the container to `/app`.\n",
    "5. **RUN pip install -r requirements.txt:** This line executes the command `pip install -r requirements.txt` inside the container to install the application dependencies specified in the `requirements.txt` file.\n",
    "6. **CMD [\"python\", \"app.py\"]: ** This line defines the command to run when the container starts. In this case, it will run the `app.py` file using Python."
   ]
  },
  {
   "cell_type": "markdown",
   "metadata": {
    "vscode": {
     "languageId": "shellscript"
    }
   },
   "source": [
    "### Building the Docker Image\n",
    "\n",
    "To build the Docker image, open your terminal, navigate to the directory where you saved the Dockerfile, and run the following command\n",
    "\n",
    "\n",
    "Below is the syntax for this command:\n",
    "\n",
    "```bash\n",
    "# build an image\n",
    "# OPTIONS - optional;  define extra configuration\n",
    "# PATH - required;  sets the location of the Dockefile and  any referenced files \n",
    "docker build [OPTIONS] PATH\n",
    "\n",
    "# Where OPTIONS can be:\n",
    "-t, --tag - set the name and tag of the image\n",
    "-f, --file - set the name of the Dockerfile\n",
    "--build-arg - set build-time variables\n",
    "\n",
    "# Find all valid options for this command \n",
    "docker build --help\n",
    "```"
   ]
  },
  {
   "cell_type": "markdown",
   "metadata": {},
   "source": [
    "For example, to build the image of the Python hello-world application from the Dockerfile, the following command can be used:\n",
    "Build an image using the Dockerfile from the current directory"
   ]
  },
  {
   "cell_type": "code",
   "execution_count": null,
   "metadata": {
    "vscode": {
     "languageId": "shellscript"
    }
   },
   "outputs": [],
   "source": [
    "%%bash\n",
    "docker build -t python-helloworld ."
   ]
  },
  {
   "cell_type": "markdown",
   "metadata": {},
   "source": [
    "### Run the container\n",
    "\n",
    "\n",
    "Before distributing the Docker image to a wider audience, it is paramount to test it locally and verify if it meets the expected behavior. \n",
    "To create a container using an available Docker image, the docker run command is available. \n",
    "\n",
    "Below is the syntax for this command:"
   ]
  },
  {
   "cell_type": "markdown",
   "metadata": {},
   "source": [
    "```bash\n",
    "# execute an image\n",
    "# OPTIONS - optional;  define extra configuration\n",
    "# IMAGE -  required; provides the name of the image to be executed\n",
    "# COMMAND and ARGS - optional; instruct the container to run specific commands when it starts \n",
    "docker run [OPTIONS] IMAGE [COMMAND] [ARG...]\n",
    "\n",
    "# Where OPTIONS can be:\n",
    "-d, --detach - run in the background \n",
    "-p, --publish - expose container port to host\n",
    "-it - start an interactive shell\n",
    "\n",
    "# Find all valid options for this command \n",
    "docker run --help\n",
    "```"
   ]
  },
  {
   "cell_type": "markdown",
   "metadata": {},
   "source": [
    "For example, to run the Python hello-world application, using the created image, the following command can be used:\n",
    "\n",
    "Note: To access the application in a browser, we need to bind the Docker container port to a port on the host or local machine. In this case, 5111 is the host port that we use to access the application e.g. http://127.0.0.1:5111/. The 5000 is the container port that the application is listening to for incoming requests. "
   ]
  },
  {
   "cell_type": "code",
   "execution_count": null,
   "metadata": {
    "vscode": {
     "languageId": "shellscript"
    }
   },
   "outputs": [],
   "source": [
    "%%bash\n",
    "# run the `python-helloworld` image, in detached mode and expose it on port `5111`\n",
    "docker run -d -p 5111:5000 python-helloworld"
   ]
  },
  {
   "cell_type": "markdown",
   "metadata": {},
   "source": [
    "To retrieve the Docker container logs use the docker logs {{ CONTAINER_ID }} command. For example:\n",
    "\n",
    "```docker logs 95173091eb5e```"
   ]
  },
  {
   "cell_type": "code",
   "execution_count": null,
   "metadata": {
    "vscode": {
     "languageId": "shellscript"
    }
   },
   "outputs": [],
   "source": [
    "%%bash\n",
    "docker ps "
   ]
  },
  {
   "cell_type": "code",
   "execution_count": null,
   "metadata": {
    "vscode": {
     "languageId": "shellscript"
    }
   },
   "outputs": [],
   "source": [
    "%%bash\n",
    "docker logs 2e5d26ffaa1c   "
   ]
  },
  {
   "cell_type": "markdown",
   "metadata": {},
   "source": [
    "## Package docker image and distribute it"
   ]
  },
  {
   "cell_type": "markdown",
   "metadata": {},
   "source": [
    "The last step in packaging an application using Docker is to store and distribute it. So far, we have built and tested an image on the local machine, which does not ensure that other engineers have access to it. As a result, the image needs to be pushed to a public Docker image registry, such as DockerHub, Harbor, Google Container Registry, and many more. However, there might be cases where an image should be private and only available to trusted parties. As a result, a team can host private image registries, which provides full control over who can access and execute the image.\n",
    "\n",
    "Before pushing an image to a Docker registry, it is highly recommended to tag it first. During the build stage, if a tag is not provided (via the -t or --tag flag), then the image would be allocated an ID, which does not have a human-readable format (e.g. 0e5574283393). On the other side, a defined tag is easily scalable by the human eye, as it is composed of a registry repository, image name, and version. Also, a tag provides version control over application releases, as a new tag would indicate a new release.\n",
    "\n",
    "To tag an existing image on the local machine, the docker tag command is available. Below is the syntax for this command:"
   ]
  },
  {
   "cell_type": "markdown",
   "metadata": {},
   "source": [
    "```bash\n",
    "# tag an image\n",
    "# SOURCE_IMAGE[:TAG]  - required and the tag is optional; define the name of an image on the current machine \n",
    "# TARGET_IMAGE[:TAG] -  required and the tag is optional; define the repository, name, and version of an image\n",
    "docker tag SOURCE_IMAGE[:TAG] TARGET_IMAGE[:TAG]\n",
    "```"
   ]
  },
  {
   "cell_type": "markdown",
   "metadata": {},
   "source": [
    "For example, to tag the Python hello-world application, to be pushed to a repository in DockerHub, the following command can be used:"
   ]
  },
  {
   "cell_type": "markdown",
   "metadata": {},
   "source": [
    "Replace `pixelpotato` with your docker hub name"
   ]
  },
  {
   "cell_type": "code",
   "execution_count": null,
   "metadata": {
    "vscode": {
     "languageId": "shellscript"
    }
   },
   "outputs": [],
   "source": [
    "%%bash\n",
    "\n",
    "# tag the `python-helloworld` image, to be pushed \n",
    "# in the `pixelpotato` repository, with the `python-helloworld` image name\n",
    "# and version `v1.0.0`\n",
    "docker tag python-helloworld pixelpotato/python-helloworld:v1.0.0"
   ]
  },
  {
   "cell_type": "markdown",
   "metadata": {},
   "source": [
    "Once the image is tagged, the final step is to push the image to a registry. For this purpose, the docker push command can be used. Below is the syntax for this command:"
   ]
  },
  {
   "cell_type": "markdown",
   "metadata": {},
   "source": [
    "```bash\n",
    "# push an image to a registry \n",
    "# NAME[:TAG] - required and the tag is optional; name, set the image name to be pushed to the registry\n",
    "docker push NAME[:TAG]\n",
    "```"
   ]
  },
  {
   "cell_type": "markdown",
   "metadata": {},
   "source": [
    "For example, to push the Python hello-world application to DockerHub, the following command can be used:"
   ]
  },
  {
   "cell_type": "code",
   "execution_count": null,
   "metadata": {
    "vscode": {
     "languageId": "shellscript"
    }
   },
   "outputs": [],
   "source": [
    "%%bash\n",
    "# push the `python-helloworld` application in version v1.0.0 \n",
    "# to the `pixelpotato` repository in DockerHub\n",
    "docker push pixelpotato/python-helloworld:v1.0.0"
   ]
  },
  {
   "cell_type": "markdown",
   "metadata": {},
   "source": [
    "### Use the Published Image\n",
    "\n",
    "To reuse the published image, follow these steps:\n",
    "\n",
    "1. **Pull the Image**: Retrieve the Docker image from the registry using the `docker pull` command.\n",
    "2. **Run the Image**: Execute the Docker image in a container using the `docker run` command."
   ]
  },
  {
   "cell_type": "code",
   "execution_count": null,
   "metadata": {
    "vscode": {
     "languageId": "shellscript"
    }
   },
   "outputs": [],
   "source": [
    "%%bash\n",
    "\n",
    "# pull image first and run locally\n",
    "docker pull codingmoh/python-helloworld:v1.0.0\n",
    "docker run -d -p 5111:5000 (--name fhtw-app) python-helloworld"
   ]
  }
 ],
 "metadata": {
  "kernelspec": {
   "display_name": "Python 3",
   "language": "python",
   "name": "python3"
  },
  "language_info": {
   "codemirror_mode": {
    "name": "ipython",
    "version": 3
   },
   "file_extension": ".py",
   "mimetype": "text/x-python",
   "name": "python",
   "nbconvert_exporter": "python",
   "pygments_lexer": "ipython3",
   "version": "3.8.10"
  }
 },
 "nbformat": 4,
 "nbformat_minor": 4
}
